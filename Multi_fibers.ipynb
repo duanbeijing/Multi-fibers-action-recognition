{
  "nbformat": 4,
  "nbformat_minor": 0,
  "metadata": {
    "colab": {
      "name": "Multi-fibers.ipynb",
      "version": "0.3.2",
      "provenance": []
    },
    "kernelspec": {
      "name": "python3",
      "display_name": "Python 3"
    },
    "accelerator": "GPU"
  },
  "cells": [
    {
      "metadata": {
        "id": "Pl3-Px9PKW3-",
        "colab_type": "code",
        "outputId": "5b98be91-ea1a-46be-cb1c-da3741df7d41",
        "colab": {
          "base_uri": "https://localhost:8080/",
          "height": 107
        }
      },
      "cell_type": "code",
      "source": [
        "!git clone https://github.com/cypw/PyTorch-MFNet.git"
      ],
      "execution_count": 0,
      "outputs": [
        {
          "output_type": "stream",
          "text": [
            "Cloning into 'PyTorch-MFNet'...\n",
            "remote: Enumerating objects: 117, done.\u001b[K\n",
            "remote: Total 117 (delta 0), reused 0 (delta 0), pack-reused 117\u001b[K\n",
            "Receiving objects: 100% (117/117), 6.96 MiB | 8.14 MiB/s, done.\n",
            "Resolving deltas: 100% (32/32), done.\n"
          ],
          "name": "stdout"
        }
      ]
    },
    {
      "metadata": {
        "id": "6GCiQwePSgmF",
        "colab_type": "code",
        "colab": {}
      },
      "cell_type": "code",
      "source": [
        ""
      ],
      "execution_count": 0,
      "outputs": []
    },
    {
      "metadata": {
        "id": "MvUzUpa7K5iW",
        "colab_type": "code",
        "outputId": "d68c8e8a-b184-4a2b-b345-e265e7af9042",
        "colab": {
          "base_uri": "https://localhost:8080/",
          "height": 503
        }
      },
      "cell_type": "code",
      "source": [
        "from tensorflow.python.client import device_lib\n",
        "device_lib.list_local_devices()"
      ],
      "execution_count": 0,
      "outputs": [
        {
          "output_type": "execute_result",
          "data": {
            "text/plain": [
              "[name: \"/device:CPU:0\"\n",
              " device_type: \"CPU\"\n",
              " memory_limit: 268435456\n",
              " locality {\n",
              " }\n",
              " incarnation: 9637541711936437176, name: \"/device:XLA_CPU:0\"\n",
              " device_type: \"XLA_CPU\"\n",
              " memory_limit: 17179869184\n",
              " locality {\n",
              " }\n",
              " incarnation: 2602791754679532212\n",
              " physical_device_desc: \"device: XLA_CPU device\", name: \"/device:XLA_GPU:0\"\n",
              " device_type: \"XLA_GPU\"\n",
              " memory_limit: 17179869184\n",
              " locality {\n",
              " }\n",
              " incarnation: 8902092708403642840\n",
              " physical_device_desc: \"device: XLA_GPU device\", name: \"/device:GPU:0\"\n",
              " device_type: \"GPU\"\n",
              " memory_limit: 14800692839\n",
              " locality {\n",
              "   bus_id: 1\n",
              "   links {\n",
              "   }\n",
              " }\n",
              " incarnation: 6375665360863167772\n",
              " physical_device_desc: \"device: 0, name: Tesla T4, pci bus id: 0000:00:04.0, compute capability: 7.5\"]"
            ]
          },
          "metadata": {
            "tags": []
          },
          "execution_count": 1
        }
      ]
    },
    {
      "metadata": {
        "id": "1MaNLm9DN3vB",
        "colab_type": "code",
        "outputId": "bdcf7bf2-4b60-4d23-80ab-e6364ca25c1f",
        "colab": {
          "base_uri": "https://localhost:8080/",
          "height": 35
        }
      },
      "cell_type": "code",
      "source": [
        "import tensorflow as tf\n",
        "tf.test.gpu_device_name()"
      ],
      "execution_count": 0,
      "outputs": [
        {
          "output_type": "execute_result",
          "data": {
            "text/plain": [
              "'/device:GPU:0'"
            ]
          },
          "metadata": {
            "tags": []
          },
          "execution_count": 2
        }
      ]
    },
    {
      "metadata": {
        "id": "y_zobHZgLNWG",
        "colab_type": "code",
        "outputId": "9f278266-de25-470c-dbff-0382164cf397",
        "colab": {
          "base_uri": "https://localhost:8080/",
          "height": 35
        }
      },
      "cell_type": "code",
      "source": [
        "!ls\n",
        "import os\n",
        "os.chdir(\"/content/drive/My Drive\")"
      ],
      "execution_count": 0,
      "outputs": [
        {
          "output_type": "stream",
          "text": [
            "drive  keras_lstm_chinese_document_classification  sample_data\n"
          ],
          "name": "stdout"
        }
      ]
    },
    {
      "metadata": {
        "id": "MKyjr29tOMCr",
        "colab_type": "code",
        "outputId": "df45bf0d-9061-4f3b-8c1a-cd79013d7efc",
        "colab": {
          "base_uri": "https://localhost:8080/",
          "height": 161
        }
      },
      "cell_type": "code",
      "source": [
        "!ls\n",
        "import os\n",
        "os.chdir(\"/content/drive/My Drive/PyTorch-MFNet\")\n",
        "!ls"
      ],
      "execution_count": 0,
      "outputs": [
        {
          "output_type": "stream",
          "text": [
            "data\t Hosts\t\t README.md     train\t\t  train_ucf101.py\n",
            "dataset  kill_python.sh  run_dist.sh   train_hmdb51.py\n",
            "dist.sh  LICENSE\t run_local.sh  train_kinetics.py\n",
            "exps\t network\t test\t       train_model.py\n",
            "data\t Hosts\t\t README.md     train\t\t  train_ucf101.py\n",
            "dataset  kill_python.sh  run_dist.sh   train_hmdb51.py\n",
            "dist.sh  LICENSE\t run_local.sh  train_kinetics.py\n",
            "exps\t network\t test\t       train_model.py\n"
          ],
          "name": "stdout"
        }
      ]
    }
  ]
}